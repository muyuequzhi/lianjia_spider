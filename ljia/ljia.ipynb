{
 "cells": [
  {
   "cell_type": "markdown",
   "metadata": {},
   "source": [
    "# 上海链家租房信息分析\n",
    "## 首先导入csv文件"
   ]
  },
  {
   "cell_type": "code",
   "execution_count": 1,
   "metadata": {},
   "outputs": [
    {
     "data": {
      "text/html": [
       "<div>\n",
       "<style scoped>\n",
       "    .dataframe tbody tr th:only-of-type {\n",
       "        vertical-align: middle;\n",
       "    }\n",
       "\n",
       "    .dataframe tbody tr th {\n",
       "        vertical-align: top;\n",
       "    }\n",
       "\n",
       "    .dataframe thead th {\n",
       "        text-align: right;\n",
       "    }\n",
       "</style>\n",
       "<table border=\"1\" class=\"dataframe\">\n",
       "  <thead>\n",
       "    <tr style=\"text-align: right;\">\n",
       "      <th></th>\n",
       "      <th>area</th>\n",
       "      <th>direction</th>\n",
       "      <th>district</th>\n",
       "      <th>house</th>\n",
       "      <th>price</th>\n",
       "      <th>traffic</th>\n",
       "      <th>type</th>\n",
       "    </tr>\n",
       "  </thead>\n",
       "  <tbody>\n",
       "    <tr>\n",
       "      <th>0</th>\n",
       "      <td>21㎡</td>\n",
       "      <td>朝南</td>\n",
       "      <td>宝山</td>\n",
       "      <td>景瑞遇道 1室0厅 南</td>\n",
       "      <td>3000</td>\n",
       "      <td>607</td>\n",
       "      <td>1室0厅1卫</td>\n",
       "    </tr>\n",
       "    <tr>\n",
       "      <th>1</th>\n",
       "      <td>54㎡</td>\n",
       "      <td>朝南</td>\n",
       "      <td>徐汇</td>\n",
       "      <td>寿昌坊 2室1厅 南</td>\n",
       "      <td>5000</td>\n",
       "      <td>941</td>\n",
       "      <td>2室1厅1卫</td>\n",
       "    </tr>\n",
       "    <tr>\n",
       "      <th>2</th>\n",
       "      <td>58㎡</td>\n",
       "      <td>朝南</td>\n",
       "      <td>徐汇</td>\n",
       "      <td>梅陇四村 1室1厅 南</td>\n",
       "      <td>4000</td>\n",
       "      <td>0</td>\n",
       "      <td>1室1厅1卫</td>\n",
       "    </tr>\n",
       "    <tr>\n",
       "      <th>3</th>\n",
       "      <td>44㎡</td>\n",
       "      <td>朝南</td>\n",
       "      <td>静安</td>\n",
       "      <td>整租·南长苑 1室1厅 南</td>\n",
       "      <td>5300</td>\n",
       "      <td>599</td>\n",
       "      <td>1室1厅1卫</td>\n",
       "    </tr>\n",
       "    <tr>\n",
       "      <th>4</th>\n",
       "      <td>34㎡</td>\n",
       "      <td>朝南</td>\n",
       "      <td>徐汇</td>\n",
       "      <td>整租·乐山六七村 1室1厅 南</td>\n",
       "      <td>3800</td>\n",
       "      <td>733</td>\n",
       "      <td>1室1厅1卫</td>\n",
       "    </tr>\n",
       "  </tbody>\n",
       "</table>\n",
       "</div>"
      ],
      "text/plain": [
       "  area direction district            house  price  traffic    type\n",
       "0  21㎡        朝南       宝山      景瑞遇道 1室0厅 南   3000      607  1室0厅1卫\n",
       "1  54㎡        朝南       徐汇       寿昌坊 2室1厅 南   5000      941  2室1厅1卫\n",
       "2  58㎡        朝南       徐汇      梅陇四村 1室1厅 南   4000        0  1室1厅1卫\n",
       "3  44㎡        朝南       静安    整租·南长苑 1室1厅 南   5300      599  1室1厅1卫\n",
       "4  34㎡        朝南       徐汇  整租·乐山六七村 1室1厅 南   3800      733  1室1厅1卫"
      ]
     },
     "execution_count": 1,
     "metadata": {},
     "output_type": "execute_result"
    }
   ],
   "source": [
    "import pandas as pd\n",
    "import numpy as np\n",
    "import matplotlib.pyplot as plt\n",
    "from sklearn.cluster import KMeans\n",
    "import sys\n",
    "\n",
    "plt.rcParams['font.sans-serif'] = ['SimHei']    \n",
    "plt.rcParams['axes.unicode_minus'] = False\n",
    "df = pd.read_csv('zufang.csv')\n",
    "df.head()"
   ]
  },
  {
   "cell_type": "markdown",
   "metadata": {},
   "source": [
    "## 从字符串中提取数字"
   ]
  },
  {
   "cell_type": "code",
   "execution_count": 3,
   "metadata": {},
   "outputs": [
    {
     "data": {
      "text/html": [
       "<div>\n",
       "<style scoped>\n",
       "    .dataframe tbody tr th:only-of-type {\n",
       "        vertical-align: middle;\n",
       "    }\n",
       "\n",
       "    .dataframe tbody tr th {\n",
       "        vertical-align: top;\n",
       "    }\n",
       "\n",
       "    .dataframe thead th {\n",
       "        text-align: right;\n",
       "    }\n",
       "</style>\n",
       "<table border=\"1\" class=\"dataframe\">\n",
       "  <thead>\n",
       "    <tr style=\"text-align: right;\">\n",
       "      <th></th>\n",
       "      <th>area</th>\n",
       "      <th>direction</th>\n",
       "      <th>district</th>\n",
       "      <th>house</th>\n",
       "      <th>price</th>\n",
       "      <th>traffic</th>\n",
       "      <th>type</th>\n",
       "    </tr>\n",
       "  </thead>\n",
       "  <tbody>\n",
       "    <tr>\n",
       "      <th>0</th>\n",
       "      <td>21.0</td>\n",
       "      <td>朝南</td>\n",
       "      <td>宝山</td>\n",
       "      <td>景瑞遇道 1室0厅 南</td>\n",
       "      <td>3000</td>\n",
       "      <td>607</td>\n",
       "      <td>1室0厅1卫</td>\n",
       "    </tr>\n",
       "    <tr>\n",
       "      <th>1</th>\n",
       "      <td>54.0</td>\n",
       "      <td>朝南</td>\n",
       "      <td>徐汇</td>\n",
       "      <td>寿昌坊 2室1厅 南</td>\n",
       "      <td>5000</td>\n",
       "      <td>941</td>\n",
       "      <td>2室1厅1卫</td>\n",
       "    </tr>\n",
       "    <tr>\n",
       "      <th>2</th>\n",
       "      <td>58.0</td>\n",
       "      <td>朝南</td>\n",
       "      <td>徐汇</td>\n",
       "      <td>梅陇四村 1室1厅 南</td>\n",
       "      <td>4000</td>\n",
       "      <td>0</td>\n",
       "      <td>1室1厅1卫</td>\n",
       "    </tr>\n",
       "    <tr>\n",
       "      <th>3</th>\n",
       "      <td>44.0</td>\n",
       "      <td>朝南</td>\n",
       "      <td>静安</td>\n",
       "      <td>整租·南长苑 1室1厅 南</td>\n",
       "      <td>5300</td>\n",
       "      <td>599</td>\n",
       "      <td>1室1厅1卫</td>\n",
       "    </tr>\n",
       "    <tr>\n",
       "      <th>4</th>\n",
       "      <td>34.0</td>\n",
       "      <td>朝南</td>\n",
       "      <td>徐汇</td>\n",
       "      <td>整租·乐山六七村 1室1厅 南</td>\n",
       "      <td>3800</td>\n",
       "      <td>733</td>\n",
       "      <td>1室1厅1卫</td>\n",
       "    </tr>\n",
       "  </tbody>\n",
       "</table>\n",
       "</div>"
      ],
      "text/plain": [
       "   area direction district            house  price  traffic    type\n",
       "0  21.0        朝南       宝山      景瑞遇道 1室0厅 南   3000      607  1室0厅1卫\n",
       "1  54.0        朝南       徐汇       寿昌坊 2室1厅 南   5000      941  2室1厅1卫\n",
       "2  58.0        朝南       徐汇      梅陇四村 1室1厅 南   4000        0  1室1厅1卫\n",
       "3  44.0        朝南       静安    整租·南长苑 1室1厅 南   5300      599  1室1厅1卫\n",
       "4  34.0        朝南       徐汇  整租·乐山六七村 1室1厅 南   3800      733  1室1厅1卫"
      ]
     },
     "execution_count": 3,
     "metadata": {},
     "output_type": "execute_result"
    }
   ],
   "source": [
    "# 去除㎡，将字符串转为数字\n",
    "def data_adj(area_data, str):       \n",
    "    if str in area_data :        \n",
    "        return float(area_data[0 : area_data.find(str)])    \n",
    "    else :        \n",
    "        return None\n",
    "# 处理房屋面积数据\n",
    "df ['area'] = df['area'].apply(data_adj,str = '㎡')\n",
    "df.head()"
   ]
  },
  {
   "cell_type": "markdown",
   "metadata": {},
   "source": [
    "## 查看别墅信息，并删除"
   ]
  },
  {
   "cell_type": "code",
   "execution_count": 6,
   "metadata": {},
   "outputs": [
    {
     "name": "stdout",
     "output_type": "stream",
     "text": [
      "共有别墅518栋\n"
     ]
    },
    {
     "data": {
      "text/html": [
       "<div>\n",
       "<style scoped>\n",
       "    .dataframe tbody tr th:only-of-type {\n",
       "        vertical-align: middle;\n",
       "    }\n",
       "\n",
       "    .dataframe tbody tr th {\n",
       "        vertical-align: top;\n",
       "    }\n",
       "\n",
       "    .dataframe thead th {\n",
       "        text-align: right;\n",
       "    }\n",
       "</style>\n",
       "<table border=\"1\" class=\"dataframe\">\n",
       "  <thead>\n",
       "    <tr style=\"text-align: right;\">\n",
       "      <th></th>\n",
       "      <th>area</th>\n",
       "      <th>direction</th>\n",
       "      <th>district</th>\n",
       "      <th>house</th>\n",
       "      <th>price</th>\n",
       "      <th>traffic</th>\n",
       "      <th>type</th>\n",
       "    </tr>\n",
       "  </thead>\n",
       "  <tbody>\n",
       "    <tr>\n",
       "      <th>14208</th>\n",
       "      <td>1236.0</td>\n",
       "      <td>朝南</td>\n",
       "      <td>长宁</td>\n",
       "      <td>整租·新华别墅 4室2厅 南/北</td>\n",
       "      <td>270000</td>\n",
       "      <td>606</td>\n",
       "      <td>4室2厅3卫</td>\n",
       "    </tr>\n",
       "    <tr>\n",
       "      <th>12227</th>\n",
       "      <td>593.0</td>\n",
       "      <td>朝南</td>\n",
       "      <td>闸北</td>\n",
       "      <td>整租·华侨城苏河湾(别墅) 4室2厅 南/北</td>\n",
       "      <td>250000</td>\n",
       "      <td>365</td>\n",
       "      <td>4室2厅4卫</td>\n",
       "    </tr>\n",
       "    <tr>\n",
       "      <th>13807</th>\n",
       "      <td>568.0</td>\n",
       "      <td>朝南</td>\n",
       "      <td>长宁</td>\n",
       "      <td>整租·大境别墅 11室3厅 南</td>\n",
       "      <td>180000</td>\n",
       "      <td>0</td>\n",
       "      <td>11室3厅4卫</td>\n",
       "    </tr>\n",
       "    <tr>\n",
       "      <th>140</th>\n",
       "      <td>1091.0</td>\n",
       "      <td>朝南</td>\n",
       "      <td>浦东</td>\n",
       "      <td>整租·合生东郊别墅(一期) 6室3厅 南/北</td>\n",
       "      <td>150000</td>\n",
       "      <td>0</td>\n",
       "      <td>6室3厅5卫</td>\n",
       "    </tr>\n",
       "    <tr>\n",
       "      <th>7377</th>\n",
       "      <td>911.0</td>\n",
       "      <td>朝南</td>\n",
       "      <td>闵行</td>\n",
       "      <td>虹桥高尔夫别墅 5室3厅 南</td>\n",
       "      <td>120000</td>\n",
       "      <td>0</td>\n",
       "      <td>5室3厅5卫</td>\n",
       "    </tr>\n",
       "  </tbody>\n",
       "</table>\n",
       "</div>"
      ],
      "text/plain": [
       "         area direction district                   house   price  traffic  \\\n",
       "14208  1236.0        朝南       长宁        整租·新华别墅 4室2厅 南/北  270000      606   \n",
       "12227   593.0        朝南       闸北  整租·华侨城苏河湾(别墅) 4室2厅 南/北  250000      365   \n",
       "13807   568.0        朝南       长宁         整租·大境别墅 11室3厅 南  180000        0   \n",
       "140    1091.0        朝南       浦东  整租·合生东郊别墅(一期) 6室3厅 南/北  150000        0   \n",
       "7377    911.0        朝南       闵行          虹桥高尔夫别墅 5室3厅 南  120000        0   \n",
       "\n",
       "          type  \n",
       "14208   4室2厅3卫  \n",
       "12227   4室2厅4卫  \n",
       "13807  11室3厅4卫  \n",
       "140     6室3厅5卫  \n",
       "7377    5室3厅5卫  "
      ]
     },
     "execution_count": 6,
     "metadata": {},
     "output_type": "execute_result"
    }
   ],
   "source": [
    "# 查看别墅信息\n",
    "bieshu = df[df.house.str.contains('别墅')]\n",
    "print('共有别墅%d栋'%bieshu.shape[0])\n",
    "# 价格最高的5个别墅\n",
    "bieshu.sort_values('price', ascending=False).head(5)"
   ]
  },
  {
   "cell_type": "code",
   "execution_count": 7,
   "metadata": {},
   "outputs": [
    {
     "name": "stdout",
     "output_type": "stream",
     "text": [
      "现在还剩下18163条记录\n"
     ]
    }
   ],
   "source": [
    "# 删除别墅信息\n",
    "df.drop(bieshu.index, inplace=True)\n",
    "print('现在还剩下%d条记录'%df.shape[0])"
   ]
  },
  {
   "cell_type": "markdown",
   "metadata": {},
   "source": [
    "## 获取总价前五的房源信息"
   ]
  },
  {
   "cell_type": "code",
   "execution_count": 9,
   "metadata": {},
   "outputs": [
    {
     "data": {
      "text/html": [
       "<div>\n",
       "<style scoped>\n",
       "    .dataframe tbody tr th:only-of-type {\n",
       "        vertical-align: middle;\n",
       "    }\n",
       "\n",
       "    .dataframe tbody tr th {\n",
       "        vertical-align: top;\n",
       "    }\n",
       "\n",
       "    .dataframe thead th {\n",
       "        text-align: right;\n",
       "    }\n",
       "</style>\n",
       "<table border=\"1\" class=\"dataframe\">\n",
       "  <thead>\n",
       "    <tr style=\"text-align: right;\">\n",
       "      <th></th>\n",
       "      <th>area</th>\n",
       "      <th>direction</th>\n",
       "      <th>district</th>\n",
       "      <th>house</th>\n",
       "      <th>price</th>\n",
       "      <th>traffic</th>\n",
       "      <th>type</th>\n",
       "    </tr>\n",
       "  </thead>\n",
       "  <tbody>\n",
       "    <tr>\n",
       "      <th>14209</th>\n",
       "      <td>548.0</td>\n",
       "      <td>朝南</td>\n",
       "      <td>长宁</td>\n",
       "      <td>武夷路188号 6室2厅 南</td>\n",
       "      <td>420000</td>\n",
       "      <td>1063</td>\n",
       "      <td>6室2厅5卫</td>\n",
       "    </tr>\n",
       "    <tr>\n",
       "      <th>9671</th>\n",
       "      <td>5600.0</td>\n",
       "      <td>朝南</td>\n",
       "      <td>浦东</td>\n",
       "      <td>汇洋北宿舍 20室9厅 南</td>\n",
       "      <td>369600</td>\n",
       "      <td>0</td>\n",
       "      <td>20室9厅9卫</td>\n",
       "    </tr>\n",
       "    <tr>\n",
       "      <th>16182</th>\n",
       "      <td>474.0</td>\n",
       "      <td>朝南</td>\n",
       "      <td>徐汇</td>\n",
       "      <td>常熟路182号 6室3厅 南</td>\n",
       "      <td>350000</td>\n",
       "      <td>0</td>\n",
       "      <td>6室3厅4卫</td>\n",
       "    </tr>\n",
       "    <tr>\n",
       "      <th>10387</th>\n",
       "      <td>551.0</td>\n",
       "      <td>朝南</td>\n",
       "      <td>浦东</td>\n",
       "      <td>整租·九间堂 6室3厅 南</td>\n",
       "      <td>280000</td>\n",
       "      <td>962</td>\n",
       "      <td>6室3厅5卫</td>\n",
       "    </tr>\n",
       "    <tr>\n",
       "      <th>13900</th>\n",
       "      <td>638.0</td>\n",
       "      <td>朝南</td>\n",
       "      <td>长宁</td>\n",
       "      <td>整租·定西路1235弄 10室3厅 南</td>\n",
       "      <td>250000</td>\n",
       "      <td>531</td>\n",
       "      <td>10室3厅5卫</td>\n",
       "    </tr>\n",
       "  </tbody>\n",
       "</table>\n",
       "</div>"
      ],
      "text/plain": [
       "         area direction district                house   price  traffic  \\\n",
       "14209   548.0        朝南       长宁       武夷路188号 6室2厅 南  420000     1063   \n",
       "9671   5600.0        朝南       浦东        汇洋北宿舍 20室9厅 南  369600        0   \n",
       "16182   474.0        朝南       徐汇       常熟路182号 6室3厅 南  350000        0   \n",
       "10387   551.0        朝南       浦东        整租·九间堂 6室3厅 南  280000      962   \n",
       "13900   638.0        朝南       长宁  整租·定西路1235弄 10室3厅 南  250000      531   \n",
       "\n",
       "          type  \n",
       "14209   6室2厅5卫  \n",
       "9671   20室9厅9卫  \n",
       "16182   6室3厅4卫  \n",
       "10387   6室3厅5卫  \n",
       "13900  10室3厅5卫  "
      ]
     },
     "execution_count": 9,
     "metadata": {},
     "output_type": "execute_result"
    }
   ],
   "source": [
    "# ascending=False 降序排列\n",
    "# 查看房价最高的前5名\n",
    "df.sort_values('price', ascending=False).head() "
   ]
  },
  {
   "cell_type": "markdown",
   "metadata": {},
   "source": [
    "## 查看户型分布情况"
   ]
  },
  {
   "cell_type": "code",
   "execution_count": 11,
   "metadata": {},
   "outputs": [
    {
     "data": {
      "image/png": "[encoded data removed]",
      "text/plain": [
       "<Figure size 432x288 with 1 Axes>"
      ]
     },
     "metadata": {
      "needs_background": "light"
     },
     "output_type": "display_data"
    }
   ],
   "source": [
    "# 户型数量分布\n",
    "type = df['type'].value_counts()  \n",
    "type.head(15).plot(kind='bar', x='type', y='size', title='户型数量分布')  \n",
    "plt.legend(['数量'])\n",
    "plt.show()"
   ]
  },
  {
   "cell_type": "markdown",
   "metadata": {},
   "source": [
    "## 聚类分析"
   ]
  },
  {
   "cell_type": "code",
   "execution_count": 13,
   "metadata": {},
   "outputs": [
    {
     "data": {
      "text/html": [
       "<div>\n",
       "<style scoped>\n",
       "    .dataframe tbody tr th:only-of-type {\n",
       "        vertical-align: middle;\n",
       "    }\n",
       "\n",
       "    .dataframe tbody tr th {\n",
       "        vertical-align: top;\n",
       "    }\n",
       "\n",
       "    .dataframe thead th {\n",
       "        text-align: right;\n",
       "    }\n",
       "</style>\n",
       "<table border=\"1\" class=\"dataframe\">\n",
       "  <thead>\n",
       "    <tr style=\"text-align: right;\">\n",
       "      <th></th>\n",
       "      <th>房价</th>\n",
       "      <th>面积</th>\n",
       "      <th>交通</th>\n",
       "    </tr>\n",
       "  </thead>\n",
       "  <tbody>\n",
       "    <tr>\n",
       "      <th>0</th>\n",
       "      <td>7070.660610</td>\n",
       "      <td>89.296636</td>\n",
       "      <td>343.315435</td>\n",
       "    </tr>\n",
       "    <tr>\n",
       "      <th>1</th>\n",
       "      <td>103344.074713</td>\n",
       "      <td>359.477011</td>\n",
       "      <td>604.603448</td>\n",
       "    </tr>\n",
       "    <tr>\n",
       "      <th>2</th>\n",
       "      <td>29153.504798</td>\n",
       "      <td>210.651631</td>\n",
       "      <td>401.947697</td>\n",
       "    </tr>\n",
       "  </tbody>\n",
       "</table>\n",
       "</div>"
      ],
      "text/plain": [
       "              房价          面积          交通\n",
       "0    7070.660610   89.296636  343.315435\n",
       "1  103344.074713  359.477011  604.603448\n",
       "2   29153.504798  210.651631  401.947697"
      ]
     },
     "execution_count": 13,
     "metadata": {},
     "output_type": "execute_result"
    }
   ],
   "source": [
    "# 聚类分析\n",
    "cluster_data = df[['price', 'area','traffic']].dropna()\n",
    "K_model = KMeans(n_clusters=3)\n",
    "alg = K_model.fit(cluster_data)\n",
    "'------聚类中心------' \n",
    "center = pd.DataFrame(alg.cluster_centers_, columns=['房价','面积','交通'])\n",
    "cluster_data['label'] = alg.labels_\n",
    "center"
   ]
  },
  {
   "cell_type": "markdown",
   "metadata": {},
   "source": [
    "## 面积最小的前五个房子"
   ]
  },
  {
   "cell_type": "code",
   "execution_count": 15,
   "metadata": {},
   "outputs": [
    {
     "data": {
      "text/html": [
       "<div>\n",
       "<style scoped>\n",
       "    .dataframe tbody tr th:only-of-type {\n",
       "        vertical-align: middle;\n",
       "    }\n",
       "\n",
       "    .dataframe tbody tr th {\n",
       "        vertical-align: top;\n",
       "    }\n",
       "\n",
       "    .dataframe thead th {\n",
       "        text-align: right;\n",
       "    }\n",
       "</style>\n",
       "<table border=\"1\" class=\"dataframe\">\n",
       "  <thead>\n",
       "    <tr style=\"text-align: right;\">\n",
       "      <th></th>\n",
       "      <th>area</th>\n",
       "      <th>direction</th>\n",
       "      <th>district</th>\n",
       "      <th>house</th>\n",
       "      <th>price</th>\n",
       "      <th>traffic</th>\n",
       "      <th>type</th>\n",
       "    </tr>\n",
       "  </thead>\n",
       "  <tbody>\n",
       "    <tr>\n",
       "      <th>6171</th>\n",
       "      <td>1.0</td>\n",
       "      <td>朝南</td>\n",
       "      <td>闵行</td>\n",
       "      <td>万乐城(商业类) 1室0厅 南</td>\n",
       "      <td>1800</td>\n",
       "      <td>0</td>\n",
       "      <td>1室0厅1卫</td>\n",
       "    </tr>\n",
       "    <tr>\n",
       "      <th>15632</th>\n",
       "      <td>7.0</td>\n",
       "      <td>朝南</td>\n",
       "      <td>徐汇</td>\n",
       "      <td>整租·泰安路20号 1室0厅 南</td>\n",
       "      <td>6000</td>\n",
       "      <td>622</td>\n",
       "      <td>1室0厅0卫</td>\n",
       "    </tr>\n",
       "    <tr>\n",
       "      <th>2771</th>\n",
       "      <td>7.0</td>\n",
       "      <td>朝南</td>\n",
       "      <td>松江</td>\n",
       "      <td>莘松路1288弄515号 1室1厅 南</td>\n",
       "      <td>2800</td>\n",
       "      <td>0</td>\n",
       "      <td>1室1厅1卫</td>\n",
       "    </tr>\n",
       "    <tr>\n",
       "      <th>15776</th>\n",
       "      <td>10.0</td>\n",
       "      <td>朝南</td>\n",
       "      <td>徐汇</td>\n",
       "      <td>永康路63号 1室1厅 南</td>\n",
       "      <td>3200</td>\n",
       "      <td>576</td>\n",
       "      <td>1室1厅1卫</td>\n",
       "    </tr>\n",
       "    <tr>\n",
       "      <th>9473</th>\n",
       "      <td>11.0</td>\n",
       "      <td>朝南</td>\n",
       "      <td>杨浦</td>\n",
       "      <td>武川路99弄 2室1厅 南/北</td>\n",
       "      <td>6600</td>\n",
       "      <td>1014</td>\n",
       "      <td>2室1厅1卫</td>\n",
       "    </tr>\n",
       "  </tbody>\n",
       "</table>\n",
       "</div>"
      ],
      "text/plain": [
       "       area direction district                house  price  traffic    type\n",
       "6171    1.0        朝南       闵行      万乐城(商业类) 1室0厅 南   1800        0  1室0厅1卫\n",
       "15632   7.0        朝南       徐汇     整租·泰安路20号 1室0厅 南   6000      622  1室0厅0卫\n",
       "2771    7.0        朝南       松江  莘松路1288弄515号 1室1厅 南   2800        0  1室1厅1卫\n",
       "15776  10.0        朝南       徐汇        永康路63号 1室1厅 南   3200      576  1室1厅1卫\n",
       "9473   11.0        朝南       杨浦      武川路99弄 2室1厅 南/北   6600     1014  2室1厅1卫"
      ]
     },
     "execution_count": 15,
     "metadata": {},
     "output_type": "execute_result"
    }
   ],
   "source": [
    "# 面积最小的房子前5名\n",
    "minhouse = df.sort_values('area', ascending=True)\n",
    "minhouse.head()"
   ]
  },
  {
   "cell_type": "markdown",
   "metadata": {},
   "source": [
    "## 面积最大的房子"
   ]
  },
  {
   "cell_type": "code",
   "execution_count": null,
   "metadata": {},
   "outputs": [],
   "source": [
    "# 面积最大的房子\n",
    "df.sort_values('area', ascending=False).iloc[0,:]"
   ]
  },
  {
   "cell_type": "code",
   "execution_count": 18,
   "metadata": {},
   "outputs": [],
   "source": [
    "# 各个地区房源均价"
   ]
  },
  {
   "cell_type": "code",
   "execution_count": 19,
   "metadata": {},
   "outputs": [
    {
     "data": {
      "image/png": "[encoded data removed]",
      "text/plain": [
       "<Figure size 432x288 with 1 Axes>"
      ]
     },
     "metadata": {
      "needs_background": "light"
     },
     "output_type": "display_data"
    }
   ],
   "source": [
    "#按district 分类，统计price的平均数\n",
    "house_price_perdistrict = df.groupby('district')['price'].mean()\n",
    "house_price_perdistrict.plot(kind='bar', x='district', y='price', title='各个行政区房源均价')\n",
    "plt.legend(['均价'], frameon=False)\n",
    "plt.show()"
   ]
  },
  {
   "cell_type": "markdown",
   "metadata": {},
   "source": [
    "## 各个地区房源数量"
   ]
  },
  {
   "cell_type": "code",
   "execution_count": 21,
   "metadata": {},
   "outputs": [
    {
     "data": {
      "image/png": "[encoded data removed]",
      "text/plain": [
       "<Figure size 432x288 with 1 Axes>"
      ]
     },
     "metadata": {
      "needs_background": "light"
     },
     "output_type": "display_data"
    }
   ],
   "source": [
    "# 按district分类，统计house数量\n",
    "house_num = df.groupby('district')['house'].count().sort_values(ascending=False)\n",
    "house_num.head(20).plot(kind='bar', x='district', y='size', title='各个区域房源数量分布')\n",
    "plt.legend(['数量'])\n",
    "plt.show()"
   ]
  },
  {
   "cell_type": "code",
   "execution_count": null,
   "metadata": {},
   "outputs": [],
   "source": []
  }
 ],
 "metadata": {
  "kernelspec": {
   "display_name": "Python 3",
   "language": "python",
   "name": "python3"
  },
  "language_info": {
   "codemirror_mode": {
    "name": "ipython",
    "version": 3
   },
   "file_extension": ".py",
   "mimetype": "text/x-python",
   "name": "python",
   "nbconvert_exporter": "python",
   "pygments_lexer": "ipython3",
   "version": "3.7.3"
  }
 },
 "nbformat": 4,
 "nbformat_minor": 2
}
